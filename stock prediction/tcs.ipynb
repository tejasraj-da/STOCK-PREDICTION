{
 "cells": [
  {
   "cell_type": "code",
   "execution_count": null,
   "id": "1943acfc",
   "metadata": {},
   "outputs": [
    {
     "name": "stdout",
     "output_type": "stream",
     "text": [
      "File loaded successfully!\n",
      "\n",
      "First 5 rows with Date as index:\n",
      "           Symbol Series  Prev Close    Open    High     Low    Last   Close  \\\n",
      "Date                                                                           \n",
      "2004-08-25    TCS     EQ      850.00  1198.7  1198.7  979.00  985.00  987.95   \n",
      "2004-08-26    TCS     EQ      987.95   992.0   997.0  975.30  976.85  979.00   \n",
      "2004-08-27    TCS     EQ      979.00   982.4   982.4  958.55  961.20  962.65   \n",
      "2004-08-30    TCS     EQ      962.65   969.9   990.0  965.00  986.40  986.75   \n",
      "2004-08-31    TCS     EQ      986.75   986.5   990.0  976.00  987.80  988.10   \n",
      "\n",
      "               VWAP    Volume      Turnover  Trades  Deliverable Volume  \\\n",
      "Date                                                                      \n",
      "2004-08-25  1008.32  17116372  1.725880e+15     NaN             5206360   \n",
      "2004-08-26   985.65   5055400  4.982860e+14     NaN             1294899   \n",
      "2004-08-27   969.94   3830750  3.715590e+14     NaN              976527   \n",
      "2004-08-30   982.65   3058151  3.005110e+14     NaN              701664   \n",
      "2004-08-31   982.18   2649332  2.602130e+14     NaN              695234   \n",
      "\n",
      "            %Deliverble  \n",
      "Date                     \n",
      "2004-08-25       0.3042  \n",
      "2004-08-26       0.2561  \n",
      "2004-08-27       0.2549  \n",
      "2004-08-30       0.2294  \n",
      "2004-08-31       0.2624  \n"
     ]
    },
    {
     "name": "stderr",
     "output_type": "stream",
     "text": [
      "C:\\Users\\prajw\\AppData\\Local\\Temp\\ipykernel_13636\\14446104.py:11: UserWarning: Parsing dates in %d-%m-%Y format when dayfirst=False (the default) was specified. Pass `dayfirst=True` or specify a format to silence this warning.\n",
      "  df['Date'] = pd.to_datetime(df['Date'])\n"
     ]
    }
   ],
   "source": [
    "import pandas as pd\n",
    "try:\n",
    "    df = pd.read_csv('TCS.csv')\n",
    "    print(\"File loaded successfully!\")\n",
    "except FileNotFoundError:\n",
    "    print(\"Error: Make sure 'TCS.csv' is in the same folder as your script.\")\n",
    "\n",
    "\n",
    "df['Date'] = pd.to_datetime(df['Date'])\n",
    "\n",
    "\n",
    "df.set_index('Date', inplace=True)\n",
    "\n",
    "print(\"\\nFirst 5 rows with Date as index:\")\n",
    "print(df.head())"
   ]
  },
  {
   "cell_type": "code",
   "execution_count": null,
   "id": "cca8ec08",
   "metadata": {},
   "outputs": [
    {
     "name": "stdout",
     "output_type": "stream",
     "text": [
      "\n",
      "Dataset with new features and target:\n",
      "           Symbol Series  Prev Close    Open     High      Low    Last  \\\n",
      "Date                                                                     \n",
      "2011-06-01    TCS     EQ     1157.15  1157.0  1177.00  1157.00  1174.7   \n",
      "2011-06-02    TCS     EQ     1175.40  1158.9  1172.00  1156.65  1170.0   \n",
      "2011-06-03    TCS     EQ     1167.75  1166.0  1175.00  1150.00  1153.0   \n",
      "2011-06-06    TCS     EQ     1152.10  1140.0  1168.00  1140.00  1167.0   \n",
      "2011-06-07    TCS     EQ     1164.35  1163.0  1183.15  1158.00  1180.0   \n",
      "\n",
      "              Close     VWAP  Volume      Turnover   Trades  \\\n",
      "Date                                                          \n",
      "2011-06-01  1175.40  1171.25  491193  5.753110e+13  24427.0   \n",
      "2011-06-02  1167.75  1163.45  848827  9.875700e+13  31879.0   \n",
      "2011-06-03  1152.10  1157.15  683904  7.913790e+13  21179.0   \n",
      "2011-06-06  1164.35  1156.70  678537  7.848630e+13  20965.0   \n",
      "2011-06-07  1179.30  1175.19  918721  1.079670e+14  26487.0   \n",
      "\n",
      "            Deliverable Volume  %Deliverble  Tomorrow_Close  Target   SMA_10  \\\n",
      "Date                                                                           \n",
      "2011-06-01              235463       0.4794         1167.75       0  1154.97   \n",
      "2011-06-02              505320       0.5953         1152.10       0  1155.26   \n",
      "2011-06-03              416548       0.6091         1164.35       1  1152.97   \n",
      "2011-06-06              373937       0.5511         1179.30       1  1152.75   \n",
      "2011-06-07              598039       0.6509         1181.40       1  1155.69   \n",
      "\n",
      "              SMA_50        RSI  \n",
      "Date                             \n",
      "2011-06-01  1155.683  70.341962  \n",
      "2011-06-02  1157.622  63.663866  \n",
      "2011-06-03  1159.274  56.546135  \n",
      "2011-06-06  1161.274  56.988584  \n",
      "2011-06-07  1162.992  57.409105  \n",
      "\n",
      "Last 5 rows of the prepared data:\n",
      "           Symbol Series  Prev Close     Open     High      Low     Last  \\\n",
      "Date                                                                       \n",
      "2021-04-23    TCS     EQ      3118.8  3105.00  3119.00  3091.05  3110.20   \n",
      "2021-04-26    TCS     EQ      3109.5  3102.05  3153.00  3088.05  3100.05   \n",
      "2021-04-27    TCS     EQ      3100.8  3106.00  3136.10  3103.00  3132.75   \n",
      "2021-04-28    TCS     EQ      3132.0  3149.95  3151.00  3112.00  3123.00   \n",
      "2021-04-29    TCS     EQ      3124.1  3145.60  3157.35  3105.50  3114.45   \n",
      "\n",
      "              Close     VWAP   Volume      Turnover   Trades  \\\n",
      "Date                                                           \n",
      "2021-04-23  3109.50  3105.86  1615309  5.016930e+14  93127.0   \n",
      "2021-04-26  3100.80  3122.35  2490260  7.775460e+14  87012.0   \n",
      "2021-04-27  3132.00  3122.18  1471417  4.594040e+14  97077.0   \n",
      "2021-04-28  3124.10  3125.72  1639037  5.123180e+14  76017.0   \n",
      "2021-04-29  3115.25  3130.83  1621395  5.076310e+14  98275.0   \n",
      "\n",
      "            Deliverable Volume  %Deliverble  Tomorrow_Close  Target    SMA_10  \\\n",
      "Date                                                                            \n",
      "2021-04-23              772358       0.4781         3100.80       0  3193.895   \n",
      "2021-04-26             1345353       0.5402         3132.00       1  3172.240   \n",
      "2021-04-27              849767       0.5775         3124.10       0  3153.215   \n",
      "2021-04-28              847762       0.5172         3115.25       0  3140.970   \n",
      "2021-04-29              837567       0.5166         3035.65       0  3142.090   \n",
      "\n",
      "              SMA_50        RSI  \n",
      "Date                             \n",
      "2021-04-23  3111.576  44.421774  \n",
      "2021-04-26  3109.310  44.724733  \n",
      "2021-04-27  3108.412  40.553199  \n",
      "2021-04-28  3106.628  37.169191  \n",
      "2021-04-29  3104.813  35.805836  \n"
     ]
    }
   ],
   "source": [
    "\n",
    "df['Tomorrow_Close'] = df['Close'].shift(-1)\n",
    "\n",
    "\n",
    "df['Target'] = (df['Tomorrow_Close'] > df['Close']).astype(int)\n",
    "\n",
    "\n",
    "df['SMA_10'] = df['Close'].rolling(window=10).mean() \n",
    "df['SMA_50'] = df['Close'].rolling(window=50).mean() \n",
    "\n",
    "\n",
    "delta = df['Close'].diff(1)\n",
    "gain = (delta.where(delta > 0, 0)).rolling(window=14).mean()\n",
    "loss = (-delta.where(delta < 0, 0)).rolling(window=14).mean()\n",
    "rs = gain / loss\n",
    "df['RSI'] = 100 - (100 / (1 + rs))\n",
    "\n",
    "\n",
    "\n",
    "df.dropna(inplace=True)\n",
    "\n",
    "print(\"\\nDataset with new features and target:\")\n",
    "print(df.head())\n",
    "\n",
    "\n",
    "print(\"\\nLast 5 rows of the prepared data:\")\n",
    "print(df.tail())"
   ]
  },
  {
   "cell_type": "code",
   "execution_count": null,
   "id": "aeaa4a03",
   "metadata": {},
   "outputs": [
    {
     "name": "stdout",
     "output_type": "stream",
     "text": [
      "Training set size: 1964 data points\n",
      "Testing set size: 491 data points\n"
     ]
    }
   ],
   "source": [
    "from sklearn.model_selection import train_test_split\n",
    "from sklearn.ensemble import RandomForestClassifier\n",
    "from sklearn.metrics import accuracy_score, classification_report, confusion_matrix\n",
    "import seaborn as sns\n",
    "import matplotlib.pyplot as plt\n",
    "\n",
    "\n",
    "features = ['SMA_10', 'SMA_50', 'RSI', 'Volume']\n",
    "target = 'Target'\n",
    "\n",
    "X = df[features]\n",
    "y = df[target]\n",
    "\n",
    "\n",
    "split_index = int(len(X) * 0.8)\n",
    "\n",
    "X_train, X_test = X[:split_index], X[split_index:]\n",
    "y_train, y_test = y[:split_index], y[split_index:]\n",
    "\n",
    "print(f\"Training set size: {len(X_train)} data points\")\n",
    "print(f\"Testing set size: {len(X_test)} data points\")"
   ]
  },
  {
   "cell_type": "code",
   "execution_count": null,
   "id": "0c1fc0dd",
   "metadata": {},
   "outputs": [
    {
     "name": "stdout",
     "output_type": "stream",
     "text": [
      "\n",
      "Model training complete!\n"
     ]
    }
   ],
   "source": [
    "\n",
    "model = RandomForestClassifier(n_estimators=100, random_state=42)\n",
    "model.fit(X_train, y_train)\n",
    "\n",
    "print(\"\\nModel training complete!\")"
   ]
  },
  {
   "cell_type": "code",
   "execution_count": null,
   "id": "dee5f7ff",
   "metadata": {},
   "outputs": [
    {
     "name": "stdout",
     "output_type": "stream",
     "text": [
      "\n",
      "Model Accuracy on Test Set: 0.5336\n",
      "\n",
      "Classification Report:\n",
      "              precision    recall  f1-score   support\n",
      "\n",
      "    Down (0)       0.53      0.35      0.42       239\n",
      "      Up (1)       0.53      0.71      0.61       252\n",
      "\n",
      "    accuracy                           0.53       491\n",
      "   macro avg       0.53      0.53      0.52       491\n",
      "weighted avg       0.53      0.53      0.52       491\n",
      "\n"
     ]
    },
    {
     "data": {
      "image/png": "[encoded data removed]",
      "text/plain": [
       "<Figure size 800x600 with 2 Axes>"
      ]
     },
     "metadata": {},
     "output_type": "display_data"
    }
   ],
   "source": [
    "\n",
    "y_pred = model.predict(X_test)\n",
    "\n",
    "\n",
    "\n",
    "\n",
    "accuracy = accuracy_score(y_test, y_pred)\n",
    "print(f\"\\nModel Accuracy on Test Set: {accuracy:.4f}\")\n",
    "\n",
    "\n",
    "print(\"\\nClassification Report:\")\n",
    "print(classification_report(y_test, y_pred, target_names=['Down (0)', 'Up (1)']))\n",
    "\n",
    "\n",
    "cm = confusion_matrix(y_test, y_pred)\n",
    "plt.figure(figsize=(8, 6))\n",
    "sns.heatmap(cm, annot=True, fmt='d', cmap='Blues',\n",
    "            xticklabels=['Predicted Down', 'Predicted Up'],\n",
    "            yticklabels=['Actual Down', 'Actual Up'])\n",
    "plt.title('Confusion Matrix')\n",
    "plt.ylabel('Actual Label')\n",
    "plt.xlabel('Predicted Label')\n",
    "plt.show()"
   ]
  },
  {
   "cell_type": "code",
   "execution_count": null,
   "id": "5b2a1a8b",
   "metadata": {},
   "outputs": [
    {
     "data": {
      "image/png": "[encoded data removed]",
      "text/plain": [
       "<Figure size 1000x600 with 1 Axes>"
      ]
     },
     "metadata": {},
     "output_type": "display_data"
    }
   ],
   "source": [
    "import pandas as pd\n",
    "import matplotlib.pyplot as plt\n",
    "\n",
    "\n",
    "feature_importances = pd.Series(model.feature_importances_, index=features).sort_values(ascending=False)\n",
    "\n",
    "plt.figure(figsize=(10, 6))\n",
    "feature_importances.plot(kind='bar')\n",
    "plt.title('Feature Importance')\n",
    "plt.ylabel('Importance')\n",
    "plt.xlabel('Features')\n",
    "plt.show()"
   ]
  },
  {
   "cell_type": "code",
   "execution_count": null,
   "id": "2a5499ca",
   "metadata": {},
   "outputs": [
    {
     "name": "stdout",
     "output_type": "stream",
     "text": [
      "\n",
      "The last available data is for the date: 2021-04-29\n",
      "Features for prediction: \n",
      "             SMA_10    SMA_50        RSI   Volume\n",
      "Date                                             \n",
      "2021-04-29  3142.09  3104.813  35.805836  1621395\n",
      "\n",
      "---> Model Prediction for the next trading day: DOWN\n",
      "Prediction Confidence: 57.00%\n"
     ]
    }
   ],
   "source": [
    "\n",
    "last_row = df[features].tail(1)\n",
    "\n",
    "prediction = model.predict(last_row)\n",
    "probability = model.predict_proba(last_row)\n",
    "\n",
    "print(f\"\\nThe last available data is for the date: {last_row.index[0].date()}\")\n",
    "print(f\"Features for prediction: \\n{last_row.to_string()}\")\n",
    "\n",
    "if prediction[0] == 1:\n",
    "    print(f\"\\n---> Model Prediction for the next trading day: UP\")\n",
    "else:\n",
    "    print(f\"\\n---> Model Prediction for the next trading day: DOWN\")\n",
    "\n",
    "print(f\"Prediction Confidence: {probability[0][prediction[0]]:.2%}\")"
   ]
  },
  {
   "cell_type": "code",
   "execution_count": null,
   "id": "d98b919c",
   "metadata": {},
   "outputs": [
    {
     "name": "stdout",
     "output_type": "stream",
     "text": [
      "✅ Success! The file 'TCS_Prediction_Results.csv' has been saved with the correct columns.\n"
     ]
    }
   ],
   "source": [
    "\n",
    "final_df = df.merge(results_df, left_index=True, right_index=True, how='inner')\n",
    "\n",
    "\n",
    "powerbi_df = final_df[['Close', 'Volume_x', 'SMA_10_x', 'SMA_50_x', 'RSI_x', \n",
    "                       'Actual_Direction', 'Predicted_Direction', 'Correct_Prediction']]\n",
    "\n",
    "\n",
    "powerbi_df = powerbi_df.rename(columns={\n",
    "    'Close': 'Closing_Price',\n",
    "    'Volume_x': 'Volume',\n",
    "    'SMA_10_y': 'SMA_10',\n",
    "    'SMA_50_y': 'SMA_50',\n",
    "    'RSI_x': 'RSI'\n",
    "})\n",
    "\n",
    "powerbi_df.to_csv('TCS_Prediction_Results.csv')\n",
    "\n",
    "print(\"✅ Success! The file 'TCS_Prediction_Results.csv' has been saved with the correct columns.\")"
   ]
  }
 ],
 "metadata": {
  "kernelspec": {
   "display_name": "Python 3",
   "language": "python",
   "name": "python3"
  },
  "language_info": {
   "codemirror_mode": {
    "name": "ipython",
    "version": 3
   },
   "file_extension": ".py",
   "mimetype": "text/x-python",
   "name": "python",
   "nbconvert_exporter": "python",
   "pygments_lexer": "ipython3",
   "version": "3.12.2"
  }
 },
 "nbformat": 4,
 "nbformat_minor": 5
}
